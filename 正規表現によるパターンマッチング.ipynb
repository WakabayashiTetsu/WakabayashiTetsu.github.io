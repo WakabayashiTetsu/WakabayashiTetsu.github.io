{
  "nbformat": 4,
  "nbformat_minor": 0,
  "metadata": {
    "kernelspec": {
      "display_name": "Python 3",
      "language": "python",
      "name": "python3"
    },
    "language_info": {
      "codemirror_mode": {
        "name": "ipython",
        "version": 3
      },
      "file_extension": ".py",
      "mimetype": "text/x-python",
      "name": "python",
      "nbconvert_exporter": "python",
      "pygments_lexer": "ipython3",
      "version": "3.8.5"
    },
    "colab": {
      "name": "正規表現によるパターンマッチング.ipynb",
      "provenance": [],
      "include_colab_link": true
    }
  },
  "cells": [
    {
      "cell_type": "markdown",
      "metadata": {
        "id": "view-in-github",
        "colab_type": "text"
      },
      "source": [
        "<a href=\"https://colab.research.google.com/github/WakabayashiTetsu/WakabayashiTetsu.github.io/blob/master/%E6%AD%A3%E8%A6%8F%E8%A1%A8%E7%8F%BE%E3%81%AB%E3%82%88%E3%82%8B%E3%83%91%E3%82%BF%E3%83%BC%E3%83%B3%E3%83%9E%E3%83%83%E3%83%81%E3%83%B3%E3%82%B0.ipynb\" target=\"_parent\"><img src=\"https://colab.research.google.com/assets/colab-badge.svg\" alt=\"Open In Colab\"/></a>"
      ]
    },
    {
      "cell_type": "markdown",
      "metadata": {
        "id": "Ii_afkqYRs0L"
      },
      "source": [
        "# 正規表現によるパターンマッチング\n",
        "\n",
        "正規表現：検索するパターン\n",
        "\n",
        "正規表現の理解を助けるサイトは[こちら](https://www.regexpal.com/)\n",
        "\n",
        "## 正規表現の利用に必要な手順\n",
        "\n",
        "1. 正規表現モジュールをインストール：`import re`\n",
        "2. Regexオブジェクトの生成：`re.compile()`\n",
        "3. Matchオブジェクトの生成：`Regexオブジェクト.search()`\n",
        "4. マッチした文字列の取得：`Matchオブジェクト.group()`"
      ]
    },
    {
      "cell_type": "code",
      "metadata": {
        "id": "5WxrXQl1Rs0N",
        "outputId": "acd446e4-f1e6-4636-e221-282199ba8ed3"
      },
      "source": [
        "import re\n",
        "content = r\"(\\d\\d\\d)-(\\d\\d\\d-\\d\\d\\d\\d)\"\n",
        "pattern = '私の電話番号は080-657-7758です'\n",
        "phone_num_regex = re.compile(content)\n",
        "mo = phone_num_regex.search(pattern)\n",
        "mo.group()"
      ],
      "execution_count": null,
      "outputs": [
        {
          "output_type": "execute_result",
          "data": {
            "text/plain": [
              "'080-657-7758'"
            ]
          },
          "metadata": {
            "tags": []
          },
          "execution_count": 17
        }
      ]
    },
    {
      "cell_type": "markdown",
      "metadata": {
        "id": "R59XU-wDRs0O"
      },
      "source": [
        "## `group()`メソッド\n",
        "\n",
        "グループごとにマッチした文字列を取得\n",
        "0を渡すか、何も渡さなければ、マッチした文字列全体を返す"
      ]
    },
    {
      "cell_type": "code",
      "metadata": {
        "id": "MW_ba3eMRs0O",
        "outputId": "9228c7fb-558c-44f1-c644-61532c417853"
      },
      "source": [
        "mo.group(1)"
      ],
      "execution_count": null,
      "outputs": [
        {
          "output_type": "execute_result",
          "data": {
            "text/plain": [
              "'080'"
            ]
          },
          "metadata": {
            "tags": []
          },
          "execution_count": 18
        }
      ]
    },
    {
      "cell_type": "code",
      "metadata": {
        "id": "9d0kIsQnRs0P",
        "outputId": "5303c50c-2aff-4c10-ca51-5fe06d7bce89"
      },
      "source": [
        "mo.group(2)"
      ],
      "execution_count": null,
      "outputs": [
        {
          "output_type": "execute_result",
          "data": {
            "text/plain": [
              "'657-7758'"
            ]
          },
          "metadata": {
            "tags": []
          },
          "execution_count": 19
        }
      ]
    },
    {
      "cell_type": "code",
      "metadata": {
        "id": "9UPB_szgRs0P",
        "outputId": "33a62eeb-9dd3-47d8-f684-48395235f756"
      },
      "source": [
        "mo.group(0)"
      ],
      "execution_count": null,
      "outputs": [
        {
          "output_type": "execute_result",
          "data": {
            "text/plain": [
              "'080-657-7758'"
            ]
          },
          "metadata": {
            "tags": []
          },
          "execution_count": 20
        }
      ]
    },
    {
      "cell_type": "markdown",
      "metadata": {
        "id": "iNDfuCXSRs0Q"
      },
      "source": [
        "## 縦線を使って複数のグループとマッチする\n",
        "\n",
        "`|`によって、複数のパターンのうちのひとつとマッチできる\n",
        "\n",
        "1度マッチすると、それ以降の文字列は無視される\n",
        "\n",
        "`findall()`メソッドを使うと、すべてのマッチした箇所を取得できる"
      ]
    },
    {
      "cell_type": "code",
      "metadata": {
        "id": "Zu8zZclpRs0Q",
        "outputId": "b5cefd4f-0216-4612-fceb-b19857bf3aed"
      },
      "source": [
        "hero_regex = re.compile(r\"Batman|Tina Fey\")\n",
        "mo1 = hero_regex.search(\"Batman and Tina Fey\")\n",
        "mo1.group()"
      ],
      "execution_count": null,
      "outputs": [
        {
          "output_type": "execute_result",
          "data": {
            "text/plain": [
              "'Batman'"
            ]
          },
          "metadata": {
            "tags": []
          },
          "execution_count": 33
        }
      ]
    },
    {
      "cell_type": "code",
      "metadata": {
        "id": "V5kPdxqYRs0Q",
        "outputId": "dd86ec18-b231-4610-ac16-5fe6fcc26514"
      },
      "source": [
        "mo2 = hero_regex.search(\"Tina Fey and Batman\")\n",
        "mo2.group()"
      ],
      "execution_count": null,
      "outputs": [
        {
          "output_type": "execute_result",
          "data": {
            "text/plain": [
              "'Tina Fey'"
            ]
          },
          "metadata": {
            "tags": []
          },
          "execution_count": 31
        }
      ]
    },
    {
      "cell_type": "markdown",
      "metadata": {
        "id": "Bp38gOoDRs0R"
      },
      "source": [
        "## 疑問符を用いて任意のマッチ\n",
        "\n",
        "疑問符`?`を用いると、その直前のパターンを任意パターンとして指定\n",
        "\n",
        "`?`は**直前のグループに0回か1回マッチする**"
      ]
    },
    {
      "cell_type": "code",
      "metadata": {
        "id": "OELakjstRs0R",
        "outputId": "dab3e55b-160d-4d88-fac2-304e74b3c564"
      },
      "source": [
        "bat_regex = re.compile(r'Bat(wo)?man')\n",
        "mo1 = bat_regex.search('The Adventure of Batman')\n",
        "mo1.group()"
      ],
      "execution_count": null,
      "outputs": [
        {
          "output_type": "execute_result",
          "data": {
            "text/plain": [
              "'Batman'"
            ]
          },
          "metadata": {
            "tags": []
          },
          "execution_count": 45
        }
      ]
    },
    {
      "cell_type": "code",
      "metadata": {
        "id": "DPV-KWMQRs0R",
        "outputId": "e0ebde38-eb87-4510-84e4-48cea92bee48"
      },
      "source": [
        "mo2 = bat_regex.search('The Adventure of Batwoman')\n",
        "mo2.group()"
      ],
      "execution_count": null,
      "outputs": [
        {
          "output_type": "execute_result",
          "data": {
            "text/plain": [
              "'Batwoman'"
            ]
          },
          "metadata": {
            "tags": []
          },
          "execution_count": 46
        }
      ]
    },
    {
      "cell_type": "code",
      "metadata": {
        "id": "CC9gNQDsRs0S",
        "outputId": "599e24ae-7aca-4246-dcb2-ca9df69c1843"
      },
      "source": [
        "mo3 = bat_regex.search('The Adventure of Batwowowowowoman')\n",
        "mo3 == None"
      ],
      "execution_count": null,
      "outputs": [
        {
          "output_type": "execute_result",
          "data": {
            "text/plain": [
              "True"
            ]
          },
          "metadata": {
            "tags": []
          },
          "execution_count": 47
        }
      ]
    },
    {
      "cell_type": "markdown",
      "metadata": {
        "id": "yqelREu8Rs0S"
      },
      "source": [
        "## アスタリスクを用いた０回以上のマッチ\n",
        "\n",
        "`*`は**0回以上にマッチする**"
      ]
    },
    {
      "cell_type": "code",
      "metadata": {
        "id": "93DWL2WNRs0S"
      },
      "source": [
        "bat_regex = re.compile(r'Bat(wo)*man')"
      ],
      "execution_count": null,
      "outputs": []
    },
    {
      "cell_type": "code",
      "metadata": {
        "id": "sRpoV3BRRs0S",
        "outputId": "5b39b352-1f9a-44fc-9713-30d2c8ee93da"
      },
      "source": [
        "mo4 = bat_regex.search('The Adventure of Batwowowowowoman')\n",
        "mo4.group()"
      ],
      "execution_count": null,
      "outputs": [
        {
          "output_type": "execute_result",
          "data": {
            "text/plain": [
              "'Batwowowowowoman'"
            ]
          },
          "metadata": {
            "tags": []
          },
          "execution_count": 49
        }
      ]
    },
    {
      "cell_type": "markdown",
      "metadata": {
        "id": "ZRw14-_dRs0T"
      },
      "source": [
        "## プラスを用いた１回以上のマッチ\n",
        "\n",
        "`+`は**1回以上にマッチする**\n",
        "\n",
        "`*`：直前のグループが出現しなくてもよい\n",
        "\n",
        "`+`：直前のグループが少なくとも1回は出現する必要がある"
      ]
    },
    {
      "cell_type": "code",
      "metadata": {
        "id": "_-eggDPNRs0T"
      },
      "source": [
        "bat_regex = re.compile(r'Bat(wo)+man')"
      ],
      "execution_count": null,
      "outputs": []
    },
    {
      "cell_type": "code",
      "metadata": {
        "id": "7t38pNnjRs0T",
        "outputId": "e62eb202-3a21-4912-d676-db947252a20b"
      },
      "source": [
        "mo5 = bat_regex.search('The Adventure of Batman')\n",
        "mo5 == None"
      ],
      "execution_count": null,
      "outputs": [
        {
          "output_type": "execute_result",
          "data": {
            "text/plain": [
              "True"
            ]
          },
          "metadata": {
            "tags": []
          },
          "execution_count": 54
        }
      ]
    },
    {
      "cell_type": "markdown",
      "metadata": {
        "id": "S9MVsHw2Rs0T"
      },
      "source": [
        "## 波カッコを用いて繰返し回数を指定する\n",
        "\n",
        "グループの繰返し回数を指定したいときは**波カッコの中に回数を指定**\n",
        "\n",
        "カンマで区切って最小値と最大値を指定"
      ]
    },
    {
      "cell_type": "code",
      "metadata": {
        "id": "zXYMAmf5Rs0T"
      },
      "source": [
        "ha_regex = re.compile(r'(Ha){4,5}')"
      ],
      "execution_count": null,
      "outputs": []
    },
    {
      "cell_type": "code",
      "metadata": {
        "id": "Kq4tnBGlRs0U",
        "outputId": "5b8827e8-cbdc-496d-a1a8-d1789b2d1383"
      },
      "source": [
        "mo1 = ha_regex.search('HaHaHaHa')\n",
        "mo1.group()"
      ],
      "execution_count": null,
      "outputs": [
        {
          "output_type": "execute_result",
          "data": {
            "text/plain": [
              "'HaHaHaHa'"
            ]
          },
          "metadata": {
            "tags": []
          },
          "execution_count": 66
        }
      ]
    },
    {
      "cell_type": "code",
      "metadata": {
        "id": "gg87dw9FRs0U",
        "outputId": "4376bde0-7d6f-4500-ab32-9f81787f04de"
      },
      "source": [
        "mo3 = ha_regex.search('HaHaHaHaHaHaHaHaHaHaHaHaHa')\n",
        "mo3.group()"
      ],
      "execution_count": null,
      "outputs": [
        {
          "output_type": "execute_result",
          "data": {
            "text/plain": [
              "'HaHaHaHaHa'"
            ]
          },
          "metadata": {
            "tags": []
          },
          "execution_count": 67
        }
      ]
    },
    {
      "cell_type": "code",
      "metadata": {
        "id": "sS6XvbtIRs0U",
        "outputId": "6f35edbd-bea5-4f50-e257-b767c86e5990"
      },
      "source": [
        "mo4 = ha_regex.search('HaHaHa')\n",
        "mo4 == None"
      ],
      "execution_count": null,
      "outputs": [
        {
          "output_type": "execute_result",
          "data": {
            "text/plain": [
              "True"
            ]
          },
          "metadata": {
            "tags": []
          },
          "execution_count": 68
        }
      ]
    },
    {
      "cell_type": "markdown",
      "metadata": {
        "id": "NDWi-5OxRs0U"
      },
      "source": [
        "4または5回にマッチするけど、最大回数にマッチする「**貪欲**」"
      ]
    },
    {
      "cell_type": "code",
      "metadata": {
        "id": "GoObQyjxRs0U",
        "outputId": "0d7df879-52db-408e-aae5-c8992b71c5fc"
      },
      "source": [
        "mo2 = ha_regex.search('HaHaHaHaHa')\n",
        "mo2.group()"
      ],
      "execution_count": null,
      "outputs": [
        {
          "output_type": "execute_result",
          "data": {
            "text/plain": [
              "'HaHaHaHaHa'"
            ]
          },
          "metadata": {
            "tags": []
          },
          "execution_count": 70
        }
      ]
    },
    {
      "cell_type": "markdown",
      "metadata": {
        "id": "EpNhTQssRs0V"
      },
      "source": [
        "閉じカッコのあとに疑問符`?`をつけると「**非貪欲**」なマッチを指定できる"
      ]
    },
    {
      "cell_type": "code",
      "metadata": {
        "id": "Z89VStvFRs0V",
        "outputId": "02ee4719-7815-46d3-d7e6-b05ae6393288"
      },
      "source": [
        "nonGreedy_Ha_regex = re.compile(r'(Ha){1,5}?')\n",
        "mo5 = nonGreedy_Ha_regex.search('HaHaHaHaHaHa')\n",
        "mo5.group()"
      ],
      "execution_count": null,
      "outputs": [
        {
          "output_type": "execute_result",
          "data": {
            "text/plain": [
              "'Ha'"
            ]
          },
          "metadata": {
            "tags": []
          },
          "execution_count": 71
        }
      ]
    },
    {
      "cell_type": "markdown",
      "metadata": {
        "id": "mstws9JoRs0V"
      },
      "source": [
        "### ◎正規表現における`?`の役割\n",
        "\n",
        "* 任意グループの指定\n",
        "* 非貪欲マッチの指定"
      ]
    },
    {
      "cell_type": "code",
      "metadata": {
        "id": "VFCHK5qVRs0V"
      },
      "source": [
        ""
      ],
      "execution_count": null,
      "outputs": []
    }
  ]
}